{
 "cells": [
  {
   "cell_type": "markdown",
   "id": "0e4cfa83-e02c-400c-b16d-c84b6675971b",
   "metadata": {},
   "source": [
    "# Libraries"
   ]
  },
  {
   "cell_type": "code",
   "execution_count": null,
   "id": "cafbd973-3901-4b8b-acd5-9493597053a5",
   "metadata": {
    "tags": []
   },
   "outputs": [],
   "source": [
    "import pandas as pd\n",
    "import openai\n",
    "import os\n",
    "from gensim.parsing.preprocessing import remove_stopwords \n",
    "from deep_translator import GoogleTranslator"
   ]
  },
  {
   "cell_type": "code",
   "execution_count": null,
   "id": "f71ca23a-c024-4162-80a8-cfa898427421",
   "metadata": {
    "tags": []
   },
   "outputs": [],
   "source": [
    "#pip install openai"
   ]
  },
  {
   "cell_type": "markdown",
   "id": "35fb94fd-cbcb-4b5a-aebb-34dbf5cde68e",
   "metadata": {
    "tags": []
   },
   "source": [
    "# OPEN AI Sentiment Analysis"
   ]
  },
  {
   "cell_type": "code",
   "execution_count": null,
   "id": "3731c36d-6ef3-4330-b704-dff323332bca",
   "metadata": {
    "tags": []
   },
   "outputs": [],
   "source": [
    "# code for sentiment analysis of each review\n",
    "\n",
    "def analyze_my_review(review):\n",
    "    openai.api_key='XXX'\n",
    "    retries = 10\n",
    "    sentiment = None\n",
    "\n",
    "    while retries > 0:\n",
    "        messages = [\n",
    "            {\"role\": \"system\", \"content\": \"You are an analyst that decides the sentiment of user reviews.\"},\n",
    "            {\"role\": \"user\", \"content\": f\"Analyze the following reviews and : positive, negative or neutral. Return only one word, either Positive, Negative or Neutral: {review}\"}\n",
    "        ]\n",
    "\n",
    "        completion = openai.ChatCompletion.create(\n",
    "            model=\"gpt-3.5-turbo\",\n",
    "            messages=messages,\n",
    "            # minimizing tokens hoping to to avoid random generation\n",
    "            max_tokens=3,\n",
    "            n=1,\n",
    "            stop=None,\n",
    "            temperature=0\n",
    "        )\n",
    "\n",
    "        response_text = completion.choices[0].message.content\n",
    "\n",
    "        # making sure that, if random text is generated, we still only show one word\n",
    "        if response_text in [\"Positive\", \"Negative\", \"Neutral\"]:\n",
    "            sentiment = response_text\n",
    "            break\n",
    "        else:\n",
    "            retries -= 1\n",
    "            time.sleep(0.5)\n",
    "    else:\n",
    "        sentiment = \"neutral\"\n",
    "\n",
    "    return sentiment"
   ]
  },
  {
   "cell_type": "code",
   "execution_count": null,
   "id": "c0d6ff2b-dc66-4495-9c21-eea1222d10e7",
   "metadata": {
    "tags": []
   },
   "outputs": [],
   "source": [
    "analyze_my_review('i love it')"
   ]
  },
  {
   "cell_type": "markdown",
   "id": "3a01ff50-6058-4e92-8ed2-a193196167d8",
   "metadata": {},
   "source": [
    "# OPEN AI Text Classification"
   ]
  },
  {
   "cell_type": "code",
   "execution_count": null,
   "id": "1bf94ed9-8be5-4f7f-9907-17cae2e73e26",
   "metadata": {},
   "outputs": [],
   "source": [
    "# function to classify reviews\n",
    "\n",
    "def classify_my_review(review):\n",
    "    openai.api_key = 'XXX'\n",
    "    labels = labels=[\"Bugs\",\"Spam\",\"Customer Service\",\"Price\",\"Undetermined Label\"] \n",
    "    messages = [\n",
    "            {\"role\": \"system\", \"content\": \"You are an analyst that decides the right classification for user reviews given specific labels.\"},\n",
    "            {\"role\": \"user\", \"content\": f'Analyze {review} and chose the best suited element of the list {labels} to classify the review. Only one element can be chosen'}\n",
    "    ]\n",
    "    completion = openai.ChatCompletion.create(\n",
    "        model=\"gpt-3.5-turbo\",\n",
    "        messages=messages,\n",
    "        max_tokens=200,\n",
    "        n=1,\n",
    "        stop=None,\n",
    "        temperature=0\n",
    "        )\n",
    "\n",
    "    response_text = completion.choices[0].message.content\n",
    "    if response_text in labels:\n",
    "        classification = response_text\n",
    "    else:\n",
    "        classification = \"Undetermined Label\"\n",
    "    return classification"
   ]
  },
  {
   "cell_type": "code",
   "execution_count": null,
   "id": "ff414a10-bc1a-416d-acc0-53adcd0550b2",
   "metadata": {},
   "outputs": [],
   "source": [
    "classify_my_review(\"it's so expensive! won't buy again\")"
   ]
  },
  {
   "cell_type": "markdown",
   "id": "7ad1cbbb-7d23-4032-aac1-d920ee67d1d3",
   "metadata": {},
   "source": [
    "# Word Cloud "
   ]
  },
  {
   "cell_type": "code",
   "execution_count": null,
   "id": "ba5bba99-90a0-46fc-90b4-765450e99fe4",
   "metadata": {
    "tags": []
   },
   "outputs": [],
   "source": [
    "# remove the stop words \n",
    "filtered_words = remove_stopwords(\"it's so expensive! won't buy again\") \n",
    "\n",
    "# confirm that it worked\n",
    "print(filtered_words)\n"
   ]
  },
  {
   "cell_type": "markdown",
   "id": "d54bf1e2-978d-45d7-98d9-eaab05c40fda",
   "metadata": {},
   "source": [
    "# Translation if needed"
   ]
  },
  {
   "cell_type": "code",
   "execution_count": null,
   "id": "cdf57291-f0e3-45c1-a1e4-4a6cc69dd21d",
   "metadata": {
    "tags": []
   },
   "outputs": [],
   "source": [
    "#funtion to translate the reviews\n",
    "\n",
    "def translate_text(text):\n",
    "    \"\"\"\n",
    "    Function that takes a string as input, auto-detects the language and returns a translated version \n",
    "    in the given language.\n",
    "    \n",
    "    params:\n",
    "    text = string to be translated\n",
    "    to_language = Language the text should be translated into. e.g. \"en\", \"de\"\n",
    "    \"\"\"\n",
    "    translator = GoogleTranslator(source='auto', target='en')\n",
    "    translation = translator.translate(text)\n",
    "   # time.sleep(1)\n",
    "    \n",
    "    return translation"
   ]
  },
  {
   "cell_type": "code",
   "execution_count": null,
   "id": "6c557510-6353-4ab0-99b7-f6a5ad7dc3f6",
   "metadata": {
    "tags": []
   },
   "outputs": [],
   "source": [
    "translate_text (\"eu gosto\")"
   ]
  }
 ],
 "metadata": {
  "kernelspec": {
   "display_name": "Python 3 (ipykernel)",
   "language": "python",
   "name": "python3"
  },
  "language_info": {
   "codemirror_mode": {
    "name": "ipython",
    "version": 3
   },
   "file_extension": ".py",
   "mimetype": "text/x-python",
   "name": "python",
   "nbconvert_exporter": "python",
   "pygments_lexer": "ipython3",
   "version": "3.11.5"
  }
 },
 "nbformat": 4,
 "nbformat_minor": 5
}
